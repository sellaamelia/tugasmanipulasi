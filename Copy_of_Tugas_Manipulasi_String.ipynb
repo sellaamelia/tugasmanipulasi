{
  "nbformat": 4,
  "nbformat_minor": 0,
  "metadata": {
    "colab": {
      "provenance": [],
      "include_colab_link": true
    },
    "kernelspec": {
      "name": "python3",
      "display_name": "Python 3"
    },
    "language_info": {
      "name": "python"
    }
  },
  "cells": [
    {
      "cell_type": "markdown",
      "metadata": {
        "id": "view-in-github",
        "colab_type": "text"
      },
      "source": [
        "<a href=\"https://colab.research.google.com/github/sellaamelia/tugasmanipulasi/blob/main/Copy_of_Tugas_Manipulasi_String.ipynb\" target=\"_parent\"><img src=\"https://colab.research.google.com/assets/colab-badge.svg\" alt=\"Open In Colab\"/></a>"
      ]
    },
    {
      "cell_type": "markdown",
      "source": [
        "buatlah class Catatan dengan atribut\n",
        "1. nama (string)\n",
        "2. nomor_absen (intejer)\n",
        "3. catatan (string)\n",
        "\n",
        "buat fungsi untuk\n",
        "1. menggabungkan semua atribut diatas menjadi sebuah kalimat menggunakan pertambahan string\n",
        "2. menampilkan kalimat gabungan semua atribut\n",
        "3. mencari kata dalam sebuah kalimat menggunakan fungsi in\n",
        "4. menggandakan jumlah kalimat menggunakan tanda perkalian *\n",
        "5. menghitung jumlah huruf dalam kalimat menggunakan len\n",
        "6. mencari kata pertama dalam kalimat menggunakan startswith"
      ],
      "metadata": {
        "id": "AIkziXKoHrlK"
      }
    },
    {
      "cell_type": "code",
      "source": [
        "#desain class\n",
        "class Catatan:\n",
        "  def __init__(self, nama, nomor_absen, catatan):\n",
        "    self.nama = nama\n",
        "    self.nomor_absen = nomor_absen\n",
        "    self.catatan = catatan\n",
        "\n",
        "  def gabung(self):\n",
        "    nama = str(self.nama)\n",
        "    absen = str(self.nomor_absen)\n",
        "    catatan = str(self.catatan)\n",
        "\n",
        "    gabungan = (nama +' '+ absen +' '+ catatan)\n",
        "    return gabungan\n",
        "\n",
        "  def tampil(self):\n",
        "    print(self.gabung())\n",
        "\n",
        "  def cari(self):\n",
        "    print('SMKN9MALANG' in self.gabung())\n",
        "\n",
        "  def duplikasi(self):\n",
        "    print(self.gabung() * 3)\n",
        "\n",
        "  def jumlah(self):\n",
        "    print(len(self.gabung()))\n",
        "\n",
        "  def kataawal(self):\n",
        "    awal = 'Siswa'\n",
        "\n",
        "    print(self.gabung().startswith(awal))\n",
        "\n"
      ],
      "metadata": {
        "id": "_YQuLGp_IA93"
      },
      "execution_count": 1,
      "outputs": []
    },
    {
      "cell_type": "code",
      "source": [
        "#main program\n",
        "siswa1 = Catatan(\"Siswa Dinda\",9,\"saya sekolah di SMKN9MALANG\")\n",
        "siswa2 = Catatan(\"Davina\",6,\"saya sekolah di SMK9MALANG\")\n",
        "\n",
        "siswa1.gabung()\n",
        "siswa1.tampil()\n",
        "siswa1.cari()\n",
        "siswa1.duplikasi()\n",
        "siswa1.jumlah()\n",
        "siswa1.kataawal()\n",
        "print('')\n",
        "siswa2.gabung()\n",
        "siswa2.tampil()\n",
        "siswa2.cari()\n",
        "siswa2.duplikasi()\n",
        "siswa2.jumlah()\n",
        "siswa2.kataawal()"
      ],
      "metadata": {
        "id": "QdIPVcTJID9Q",
        "colab": {
          "base_uri": "https://localhost:8080/"
        },
        "outputId": "bbbc06ea-bf66-48ac-c500-ad085bfd10f0"
      },
      "execution_count": 2,
      "outputs": [
        {
          "output_type": "stream",
          "name": "stdout",
          "text": [
            "Siswa Dinda 9 saya sekolah di SMKN9MALANG\n",
            "True\n",
            "Siswa Dinda 9 saya sekolah di SMKN9MALANGSiswa Dinda 9 saya sekolah di SMKN9MALANGSiswa Dinda 9 saya sekolah di SMKN9MALANG\n",
            "41\n",
            "True\n",
            "\n",
            "Davina 6 saya sekolah di SMK9MALANG\n",
            "False\n",
            "Davina 6 saya sekolah di SMK9MALANGDavina 6 saya sekolah di SMK9MALANGDavina 6 saya sekolah di SMK9MALANG\n",
            "35\n",
            "False\n"
          ]
        }
      ]
    }
  ]
}